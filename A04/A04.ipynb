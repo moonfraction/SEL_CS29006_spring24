{
 "cells": [
  {
   "cell_type": "code",
   "execution_count": null,
   "metadata": {},
   "outputs": [],
   "source": [
    "import numpy as np\n",
    "import cv2\n",
    "import time\n",
    "import matplotlib.pyplot as plt"
   ]
  },
  {
   "cell_type": "markdown",
   "metadata": {},
   "source": [
    "1. Write a program to load a .csv file as a NumPy 1-D array. Find the maximum and minimum elements in the array. Hint: For the data, use the .csv file “Book1.csv”\n",
    "\n",
    "Output: \n",
    "* Maximum element: 100.0\n",
    "* Minimum element: 1.0"
   ]
  },
  {
   "cell_type": "code",
   "execution_count": null,
   "metadata": {},
   "outputs": [],
   "source": [
    "# Load the data from the .csv file\n",
    "data = np.loadtxt('book1.csv', delimiter='\\t', dtype=np.float32, skiprows=1)[:, 1]\n",
    "# The [:, 1] at the end of the line is a slicing operation that selects all rows (:) and the second column (1) of the data array.\n",
    "# The result is a 1D array containing the data from the second column of the file.\n",
    "\n",
    "# Find the maximum and minimum elements in the array\n",
    "max_element = np.max(data)\n",
    "min_element = np.min(data)\n",
    "print('Maximum element:', max_element)\n",
    "print('Minimum element:', min_element)"
   ]
  },
  {
   "cell_type": "markdown",
   "metadata": {},
   "source": [
    "2. For the Numpy 1-D array as obtained in Q.1, sort the elements in ascending order. \n"
   ]
  },
  {
   "cell_type": "code",
   "execution_count": null,
   "metadata": {},
   "outputs": [],
   "source": [
    "sorted_data = np.sort(data)\n",
    "# print('Sorted data:', sorted_data)"
   ]
  },
  {
   "cell_type": "markdown",
   "metadata": {},
   "source": [
    "3. For the sorted Numpy 1-D array as obtained in Q.2, reverse the array and print. "
   ]
  },
  {
   "cell_type": "code",
   "execution_count": null,
   "metadata": {},
   "outputs": [],
   "source": [
    "reversed_data = sorted_data[::-1]\n",
    "print('Reversed data:\\n', reversed_data)"
   ]
  },
  {
   "cell_type": "markdown",
   "metadata": {},
   "source": [
    "4. Write a program to load three .csv files (Book1.csv, Book2.csv, and Book3.csv) as\n",
    "a list of Numpy 1-D arrays. Print the means of all arrays as a list.\n",
    "\n",
    "Output:\n",
    "* Means: [48.566, 51.088444, 513.326]"
   ]
  },
  {
   "cell_type": "code",
   "execution_count": null,
   "metadata": {},
   "outputs": [],
   "source": [
    "data1 = np.loadtxt('book1.csv', delimiter='\\t', dtype=np.float32, skiprows=1)[:, 1]\n",
    "data2 = np.loadtxt('book2.csv', delimiter='\\t', dtype=np.float32, skiprows=1)[:, 1]\n",
    "data3 = np.loadtxt('book3.csv', delimiter='\\t', dtype=np.float32, skiprows=1)[:, 1]\n",
    "# Print the means of all arrays as a list\n",
    "means = [np.mean(data1), np.mean(data2), np.mean(data3)]\n",
    "print('Means:', means)"
   ]
  },
  {
   "cell_type": "markdown",
   "metadata": {},
   "source": [
    "5. Write a program to read an image, store the image in NumPy 3-D array. For the image, consider\n",
    "a.PNG. Display the image. Let the image stored in the NumPy array be X."
   ]
  },
  {
   "cell_type": "code",
   "execution_count": null,
   "metadata": {},
   "outputs": [],
   "source": [
    "image = cv2.imread('a.png', cv2.IMREAD_COLOR)\n",
    "# This line reads the image file 'a.png' in color mode and stores it in the variable image.\n",
    "# The image data is stored as a 3D NumPy array, with dimensions corresponding to the height, width, and color channels of the image.\n",
    "\n",
    "cv2.imshow('Image', image)\n",
    "# This line creates a window named 'Image' and displays the image in it.\n",
    "\n",
    "cv2.waitKey(0)\n",
    "# This line waits for a key press in the 'Image' window.\n",
    "# The argument 0 means it will wait indefinitely until a key is pressed.\n",
    "\n",
    "cv2.destroyAllWindows()"
   ]
  },
  {
   "cell_type": "markdown",
   "metadata": {},
   "source": [
    "6. Write a program to convert a color image (say a.PNG) into a grescale image. Let the greysacle\n",
    "image stored in the Numpy 2-D array be X. Display the grayscale iamge on the screen"
   ]
  },
  {
   "cell_type": "code",
   "execution_count": null,
   "metadata": {},
   "outputs": [],
   "source": [
    "# Convert the image to grayscale\n",
    "gray_image = cv2.cvtColor(image, cv2.COLOR_BGR2GRAY)\n",
    "# Display the grayscale image\n",
    "cv2.imshow('Grayscale Image', gray_image)\n",
    "cv2.waitKey(0)\n",
    "cv2.destroyAllWindows()"
   ]
  },
  {
   "cell_type": "markdown",
   "metadata": {},
   "source": [
    "7. Let Y be the transpose matrix of X. Write a program to obtain Z = X×Y. "
   ]
  },
  {
   "cell_type": "code",
   "execution_count": null,
   "metadata": {},
   "outputs": [],
   "source": [
    "X = gray_image.copy()\n",
    "Y = X.T\n",
    "# Obtain Z\n",
    "start_time_with = time.time()\n",
    "Z = np.dot(X, Y)\n",
    "# This line performs matrix multiplication of X and Y and assigns the result to Z.\n",
    "# The np.dot function computes the dot product of two arrays. For 2-D arrays, it is equivalent to matrix multiplication.\n",
    "end_time_with = time.time()"
   ]
  },
  {
   "cell_type": "markdown",
   "metadata": {},
   "source": [
    "8. For the problem in Q. 7, write your program without using NumPy library. Compare the\n",
    "computation times doing the same with NumPy and basic programming in Python\n",
    "\n",
    "\n",
    "- Time taken with numpy: 0.9223132133483887: \n",
    "This is the time taken to perform matrix multiplication using NumPy's built-in functionality. It's significantly faster because NumPy operations are implemented in C, which is a lower-level language than Python and can therefore execute operations more quickly.\n",
    "\n",
    "- Time taken without numpy: 71.29215264320374: \n",
    "This is the time taken to perform matrix multiplication without using NumPy, likely using nested for loops in Python. This is significantly slower because Python is an interpreted language, and operations like loops are much slower in Python than in lower-level languages like C.\n",
    "\n",
    "- The time taken for matrix multiplication without using NumPy can vary significantly from machine to machine. This is because the performance is dependent on several factors, including:\n",
    "\n",
    "    1. Processor Speed: Faster processors can execute operations more quickly.\n",
    "    2. Memory: More available memory can allow for larger matrices to be stored and manipulated in memory, which can improve performance.\n",
    "    3. Python Interpreter: Different Python interpreters (like CPython, PyPy, etc.) can have different performance characteristics.\n",
    "    4. System Load: If the system is running other resource-intensive tasks at the same time, it can slow down the matrix multiplication.\n",
    "    \n",
    "In contrast, NumPy operations are highly optimized and use low-level languages (like C) to perform operations, which can result in more consistent performance across different machines. However, even with NumPy, the performance can still vary based on the factors listed above.\n",
    "\n",
    "Output:\n",
    "* Time taken with numpy: 0.39718008041381836\n",
    "* Time taken without numpy: 71.29215264320374"
   ]
  },
  {
   "cell_type": "code",
   "execution_count": null,
   "metadata": {},
   "outputs": [],
   "source": [
    "X2 = X.tolist()\n",
    "Y2 = Y.tolist()\n",
    "\n",
    "start_time_without = time.time()\n",
    "\n",
    "Z = [[sum(a*b for a, b in zip(X2_row, Y2_col)) for Y2_col in zip(*Y2)] for X2_row in X2]\n",
    "# This performs matrix multiplication of X2 and Y2 and assigns the result to Z. \n",
    "# It does by iterating over each row in X2 and each column in Y2, multiplying the corresponding elements together, and summing the results. \n",
    "# The zip function is used to pair up the corresponding elements from X2_row and Y2_col.\n",
    "\n",
    "end_time_without = time.time()\n",
    "\n",
    "print('Time taken with numpy:', end_time_with - start_time_with)\n",
    "print('Time taken without numpy:', end_time_without - start_time_without)"
   ]
  },
  {
   "cell_type": "markdown",
   "metadata": {},
   "source": [
    "9. Plot the pixel intensity histogram of the grescale image stored in X. \n"
   ]
  },
  {
   "cell_type": "code",
   "execution_count": null,
   "metadata": {},
   "outputs": [],
   "source": [
    "fig = plt.figure(\"Pixel Intensity Histogram\")\n",
    "plt.hist(gray_image.ravel(), 256, [0, 256])\n",
    "fig.set_size_inches(10, 5)\n",
    "# This line creates a histogram. gray_image.ravel() flattens the image into a 1D array.\n",
    "# 256 is the number of bins in the histogram, and [0, 256] is the range of values.\n",
    "\n",
    "plt.xlabel('Pixel Intensity')\n",
    "plt.ylabel('Frequency')\n",
    "plt.title('Pixel Intensity Histogram')\n",
    "plt.show()"
   ]
  },
  {
   "cell_type": "markdown",
   "metadata": {},
   "source": [
    "10. Create a black rectangle at the position [(40,100) top left, (70, 200) bottom right] in the\n",
    "grayscale image. Display the image"
   ]
  },
  {
   "cell_type": "code",
   "execution_count": null,
   "metadata": {},
   "outputs": [],
   "source": [
    "rectangle_image = gray_image.copy()\n",
    "cv2.rectangle(rectangle_image, (40, 100), (70, 200), 0, -1)\n",
    "# The rectangle's top left corner is at (40, 100) and its bottom right corner is at (70, 200). \n",
    "# The color of the rectangle is 0 (black in grayscale), and the thickness is -1, which means the rectangle is filled.\n",
    "cv2.imshow('Rectangle Image', rectangle_image)\n",
    "cv2.waitKey(0)\n",
    "cv2.destroyAllWindows()"
   ]
  },
  {
   "cell_type": "markdown",
   "metadata": {},
   "source": [
    "11. Using the grayscale image stored in X, transform it into the binarized image with thresholds:\n",
    "[50, 70, 100, 150]. Let the binarized images are stored in Z50, Z70, Z100, and Z150,\n",
    "respectively.\n",
    "\n",
    "- So, this code creates a 2x2 plot of binarized images, each with a different threshold, and displays the plot. The binarized images are created by setting all pixels in the grayscale image that are above the threshold to white, and all other pixels to black."
   ]
  },
  {
   "cell_type": "code",
   "execution_count": null,
   "metadata": {},
   "outputs": [],
   "source": [
    "# Thresholds\n",
    "thresholds = [50, 70, 100, 150]\n",
    "# Create a 2x2 plot\n",
    "fig, axs = plt.subplots(2, 2)\n",
    "fig.set_size_inches(10, 10)\n",
    "fig.suptitle('Binarized Images with Thresholds')\n",
    "\n",
    "# Transform the grayscale image into the binarized image with thresholds\n",
    "\n",
    "# store in Z50, Z70, Z100, and Z150,respectively\n",
    "# create 2d arrays Z50, Z70, Z100, Z150\n",
    "Z50 = np.where(gray_image > thresholds[0], 255, 0)\n",
    "Z70 = np.where(gray_image > thresholds[1], 255, 0)\n",
    "Z100 = np.where(gray_image > thresholds[2], 255, 0)\n",
    "Z150 = np.where(gray_image > thresholds[3], 255, 0)\n",
    "\n",
    "# Display the binarized images with thresholds\n",
    "axs[0, 0].imshow(Z50, cmap='gray')\n",
    "axs[0, 0].set_title('Threshold 50')\n",
    "\n",
    "axs[0, 1].imshow(Z70, cmap='gray')\n",
    "axs[0, 1].set_title('Threshold 70')\n",
    "\n",
    "axs[1, 0].imshow(Z100, cmap='gray')\n",
    "axs[1, 0].set_title('Threshold 100')\n",
    "\n",
    "axs[1, 1].imshow(Z150, cmap='gray')\n",
    "axs[1, 1].set_title('Threshold 150')\n",
    "\n",
    "for ax in axs.flat:\n",
    "    ax.axis('off')\n",
    "\n",
    "plt.show()"
   ]
  },
  {
   "cell_type": "markdown",
   "metadata": {},
   "source": [
    "12. Consider the color image stored in a.png. Create a filter of [[-1,-1,-1][0,0,0][1,1,1]], and\n",
    "multiply this filter to each pixel value in the image. Display the image after filtering.\n",
    "\n",
    "- This particular filter is a simple edge detection filter.\n",
    "The filter used here is a simple edge detection filter, which will highlight the horizontal edges in the image.\n"
   ]
  },
  {
   "cell_type": "code",
   "execution_count": null,
   "metadata": {},
   "outputs": [],
   "source": [
    "filter = np.array([[-1, -1, -1], [0, 0, 0], [1, 1, 1]])\n",
    "filtered_image = cv2.filter2D(image, -1, filter)\n",
    "# This line applies the filter to the image. The cv2.filter2D function convolves the image with the filter. \n",
    "# The -1 argument means the output image will have the same depth as the input image.\n",
    "\n",
    "# Display the image after filtering\n",
    "cv2.imshow('Filtered Image', filtered_image)\n",
    "cv2.waitKey(0)\n",
    "cv2.destroyAllWindows()"
   ]
  }
 ],
 "metadata": {
  "kernelspec": {
   "display_name": ".venv",
   "language": "python",
   "name": "python3"
  },
  "language_info": {
   "codemirror_mode": {
    "name": "ipython",
    "version": 3
   },
   "file_extension": ".py",
   "mimetype": "text/x-python",
   "name": "python",
   "nbconvert_exporter": "python",
   "pygments_lexer": "ipython3",
   "version": "3.11.4"
  }
 },
 "nbformat": 4,
 "nbformat_minor": 2
}
